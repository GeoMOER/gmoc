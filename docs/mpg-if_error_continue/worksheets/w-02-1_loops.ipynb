{
 "cells": [
  {
   "cell_type": "markdown",
   "metadata": {},
   "source": [
    "#### Task W02-1.1: Sum values using `for` and calculate the mean\n",
    "\n",
    "Your first task of the day should rather easily be accomplished: \n",
    "\n",
    "Using the so-called <a href=\"http://origin.cpc.ncep.noaa.gov/products/analysis_monitoring/ensostuff/ONI_v5.php\">Oceanic Ni&ntilde;o Index</a> (ONI), calculate the long-term mean sea surface temperature (SST) in the east-central equatorial Pacific Ocean (5S to 5N, 170W to 120W), better known as Ni&ntilde;o-3.4 region. The fixed-width data set can be retrieved from the <a href=\"http://www.cpc.ncep.noaa.gov/data/indices/oni.ascii.txt\">Climate Prediction Center</a> of the <a href=\"http://www.noaa.gov/\">National Oceanic and Atmospheric Administration</a> (NOAA).\n",
    "\n",
    "If you have newer encountered any of the Ni&ntilde;o regions before &ndash; not to mention El Ni&ntilde;o Southern Oscillation (ENSO) in general &ndash; now is the time! The article on the 2015 El Ni&ntilde;o event published on <a href=\"https://www.theweathernetwork.com/us/news/articles/climate-and-environment/el-nino-2015-sets-new-heat-record-what-does-this-mean/60009/\">The Weather Network</a>, from which we also \"borrowed\" the following image, could be a good starting point.\n",
    "\n",
    "<br>\n",
    "<center>\n",
    "  <figure>\n",
    "    <img src=\"https://i.imgur.com/1QMJFDc.jpg\" alt=\"nino-3.4\" width=\"600\">  \n",
    "    <figcaption>Source: https://www.theweathernetwork.com</figcaption>\n",
    "  </figure> \n",
    "</center>\n",
    "<br>\n",
    "\n",
    "In order to fulfill the required task, \n",
    "\n",
    "* write a `for` loop summing the raw SST values stored in `sst` \n",
    "* and afterwards, calculate the long-term mean SST by dividing through the length of `sst`.\n",
    "\n",
    "Here is the corresponding formula:\n",
    "\n",
    "$$\\bar{x} = \\frac{\\sum_{i=1}^{n} x_i}{n}.$$\n",
    "\n",
    "To create the sum of raw SST values inside the `for` loop, you will likely need to initialize a numeric (`float`) target variable beforehand. Considering last week's theoretical input on [data types](https://oer.uni-marburg.de/goto.php?target=pg_2625_720&client_id=mriliasmooc), however, this should not be an issue.\n",
    "\n",
    "(We are well aware that there are more elegant ways to calculate the mean from a sequence of values in Python. In order for you to practice writing `for` loops, however, it makes totally sense to stick to this suggested approach.)"
   ]
  },
  {
   "cell_type": "code",
   "execution_count": 1,
   "metadata": {},
   "outputs": [
    {
     "name": "stdout",
     "output_type": "stream",
     "text": [
      "  SEAS    YR  TOTAL  ANOM\n",
      "0  DJF  1950  24.72 -1.53\n",
      "1  JFM  1950  25.17 -1.34\n",
      "2  FMA  1950  25.75 -1.16\n",
      "3  MAM  1950  26.12 -1.18\n",
      "4  AMJ  1950  26.32 -1.07 \n",
      "\n",
      "    SEAS    YR  TOTAL  ANOM\n",
      "807  MAM  2017  27.88  0.28\n",
      "808  AMJ  2017  28.12  0.38\n",
      "809  MJJ  2017  27.95  0.37\n",
      "810  JJA  2017  27.42  0.15\n",
      "811  JAS  2017  26.84 -0.15 \n",
      "\n"
     ]
    },
    {
     "data": {
      "text/plain": [
       "[24.72, 25.17, 25.75, 26.12, 26.32, 26.31, 26.21, 25.96, 25.76, 25.63]"
      ]
     },
     "execution_count": 1,
     "metadata": {},
     "output_type": "execute_result"
    }
   ],
   "source": [
    "import pandas as pd\n",
    "\n",
    "url = \"http://www.cpc.ncep.noaa.gov/data/indices/oni.ascii.txt\"\n",
    "\n",
    "# help(pd.read_fwf)\n",
    "oni = pd.read_fwf(url, widths = [5, 5, 7, 7])\n",
    "\n",
    "## Print the head() and tail() of the ONI data set to the console\n",
    "print(oni.head(), \"\\n\")\n",
    "print(oni.tail(), \"\\n\")\n",
    "\n",
    "## This is how to access a particular column in a Pandas DataFrame and transform \n",
    "## its contents into a standard list. We'll come back to that in a follow-up session.\n",
    "sst = oni['TOTAL'].tolist()\n",
    "sst[:10]"
   ]
  },
  {
   "cell_type": "code",
   "execution_count": 2,
   "metadata": {
    "collapsed": true
   },
   "outputs": [],
   "source": [
    "## Your solution goes here:"
   ]
  },
  {
   "cell_type": "markdown",
   "metadata": {},
   "source": [
    "<hr>\n",
    "\n",
    "#### Task W02-1.2: Identify the first occurrence of _very strong_ ENSO events using `while`\n",
    "\n",
    "Okay, so far for the actual long-term mean SST in the Ni&ntilde;o-3.4 region. Let us now move on to the corresponding SST anomalies, which are calculated as the 3-month running mean based on <a href=\"http://origin.cpc.ncep.noaa.gov/products/analysis_monitoring/ensostuff/ONI_change.shtml\">centered 30-year base periods</a>. \n",
    "\n",
    "<br>\n",
    "<center>\n",
    "  <figure>\n",
    "    <img src=\"http://origin.cpc.ncep.noaa.gov/products/analysis_monitoring/ensostuff/30yrbaseperiods_Nino34._v5.png\" alt=\"base-periods\" width = \"700\">  \n",
    "    <figcaption>Source: http://origin.cpc.ncep.noaa.gov/</figcaption>\n",
    "  </figure> \n",
    "</center>\n",
    "<br>\n",
    "\n",
    "As you might know, warm (El Ni&ntilde;o) and cold (La Ni&ntilde;a) ENSO events are traditionally classified according to SST anomalies into\n",
    "\n",
    "| Category      | SST anomaly threshold |\n",
    "|:-------------:|:-------------:|\n",
    "| _weak_        | 0.5 to 0.9    | \n",
    "| _medium_      | 1.0 to 1.4    | \n",
    "| _strong_      | 1.5 to 1.9    |\n",
    "| _very strong_ | >= 2.0        |\n",
    "\n",
    "Your next task is to identify the season (`oni['SEAS']`) and year (`oni['YR']`) in which _very strong_ warm and cold ENSO events occurred for the first time since records began. For that purpose, \n",
    "\n",
    "* write two `while` loops (one for El Ni&ntilde;o, the other for La Ni&ntilde;a) to identify the index at which _very strong_ conditions (i.e. exceeding the warm or falling below the cold anomaly threshold in `oni['ANOM']`) were first observed\n",
    "* and subsequently, `print` the corresponding season and year to the console.\n",
    "\n",
    "Since you already know from the previous task how to extract a certain column from a **Pandas** `DataFrame` and convert it to an object of type `list`, we will not explicitly repeat this procedure here. Once you are done, you might want to verify your results on the basis of <a href=\"http://ggweather.com/enso/oni.htm\">this figure</a>."
   ]
  },
  {
   "cell_type": "code",
   "execution_count": 3,
   "metadata": {
    "collapsed": true
   },
   "outputs": [],
   "source": [
    "## Your solution goes here:"
   ]
  }
 ],
 "metadata": {
  "kernelspec": {
   "display_name": "Python 3",
   "language": "python",
   "name": "python3"
  },
  "language_info": {
   "codemirror_mode": {
    "name": "ipython",
    "version": 3
   },
   "file_extension": ".py",
   "mimetype": "text/x-python",
   "name": "python",
   "nbconvert_exporter": "python",
   "pygments_lexer": "ipython3",
   "version": "3.6.3"
  }
 },
 "nbformat": 4,
 "nbformat_minor": 2
}
