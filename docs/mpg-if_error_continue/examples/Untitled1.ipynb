{
 "cells": [
  {
   "cell_type": "code",
   "execution_count": 19,
   "metadata": {
    "collapsed": true
   },
   "outputs": [],
   "source": [
    "class Tree:\n",
    "    '''Class for a tree'''\n",
    "    \n",
    "    def __init__(self, tree_id, species):\n",
    "        '''\n",
    "        Constructor of a tree.\n",
    "        @param tree_id ID of a tree\n",
    "        @param species Species of the tree\n",
    "        '''\n",
    "        self.id = tree_id\n",
    "        self.species = species\n",
    "    \n",
    "    def getSpecies(self):\n",
    "        return(self.species)\n",
    "        \n",
    "class Forest:\n",
    "    '''Class for a forest'''\n",
    "    \n",
    "    def __init__(self, tree):\n",
    "        '''\n",
    "        Constructor of a forest.\n",
    "        @param tree a tree class object\n",
    "        '''\n",
    "        self.trees = []\n",
    "        self.trees.append(tree)\n",
    "        \n",
    "    def addTree(self, tree):\n",
    "        self.trees.append(tree)\n",
    "        \n",
    "    def getTrees(self):\n",
    "        return(self.trees)"
   ]
  },
  {
   "cell_type": "code",
   "execution_count": 22,
   "metadata": {},
   "outputs": [
    {
     "name": "stdout",
     "output_type": "stream",
     "text": [
      "2\n",
      "Eiche\n",
      "Buche\n"
     ]
    }
   ],
   "source": [
    "t = Tree(1, \"Eiche\")\n",
    "f = Forest(t)\n",
    "t = f.getTrees()\n",
    "t[0].getSpecies()\n",
    "f.addTree(Tree(2, \"Buche\"))\n",
    "t = f.getTrees()\n",
    "print(len(t))\n",
    "print(t[0].getSpecies())\n",
    "print(t[1].getSpecies())"
   ]
  }
 ],
 "metadata": {
  "kernelspec": {
   "display_name": "Python 3",
   "language": "python",
   "name": "python3"
  },
  "language_info": {
   "codemirror_mode": {
    "name": "ipython",
    "version": 3
   },
   "file_extension": ".py",
   "mimetype": "text/x-python",
   "name": "python",
   "nbconvert_exporter": "python",
   "pygments_lexer": "ipython3",
   "version": "3.6.1"
  }
 },
 "nbformat": 4,
 "nbformat_minor": 2
}
