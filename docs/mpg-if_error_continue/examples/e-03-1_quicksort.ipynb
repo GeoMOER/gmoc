{
 "cells": [
  {
   "cell_type": "markdown",
   "metadata": {},
   "source": [
    "## Sorting\n",
    "\n",
    "<hr>\n",
    "\n",
    "The following examples show two implementations of a quicksort algorithm, one using the Lomot, one using the Horade partitioning approach, and one example for merge sort."
   ]
  },
  {
   "cell_type": "code",
   "execution_count": 15,
   "metadata": {},
   "outputs": [
    {
     "name": "stdout",
     "output_type": "stream",
     "text": [
      "120\n"
     ]
    }
   ],
   "source": [
    "n = 5\n",
    "e = 1\n",
    "for i in range(1, n+1):\n",
    "    e = e * i\n",
    "#e\n",
    "\n",
    "def fac(n):\n",
    "    if n <= 1:\n",
    "        return n\n",
    "    return(n * fac(n-1))\n",
    "    \n",
    "d = fac(5)\n",
    "print(d)"
   ]
  },
  {
   "cell_type": "markdown",
   "metadata": {},
   "source": [
    "### Quicksort with partition algorithm of Lomoto\n",
    "Example following pseudocode taken from [Wikipedia](https://en.wikipedia.org/wiki/Quicksort)"
   ]
  },
  {
   "cell_type": "code",
   "execution_count": 23,
   "metadata": {
    "collapsed": true
   },
   "outputs": [],
   "source": [
    "def partitionLomoto(my_list, low, high):\n",
    "    pivot = my_list[high]\n",
    "    print(\"Actual pivot\", pivot)\n",
    "    print(\"Actual list before partitioning\", my_list[low:high+1])\n",
    "    i = low\n",
    "    for j in range(low, high):\n",
    "        if my_list[j] <= pivot:\n",
    "            my_list[i], my_list[j] = my_list[j], my_list[i]\n",
    "            i = i+1\n",
    "    my_list[i], my_list[high] = my_list[high], my_list[i]\n",
    "    pivot = i\n",
    "    print(\"Actual list after partitioning\", my_list[low:high+1])\n",
    "    print(\"New pivot position: \", pivot)\n",
    "    print(\"------------------\")\n",
    "    return pivot\n",
    "\n",
    "def quickSortLomoto(my_list, low, high):\n",
    "    if low < high:\n",
    "        pivot = partitionLomoto(my_list, low, high)\n",
    "        quickSortLomoto(my_list, low, pivot-1)\n",
    "        quickSortLomoto(my_list, pivot+1, high)\n",
    "    return my_list"
   ]
  },
  {
   "cell_type": "code",
   "execution_count": 24,
   "metadata": {},
   "outputs": [
    {
     "name": "stdout",
     "output_type": "stream",
     "text": [
      "Actual pivot 1\n",
      "Actual list before partitioning [21, 11, 31, 9, 8, 19, 1]\n",
      "Actual list after partitioning [1, 11, 31, 9, 8, 19, 21]\n",
      "New pivot position:  0\n",
      "------------------\n",
      "Actual pivot 21\n",
      "Actual list before partitioning [11, 31, 9, 8, 19, 21]\n",
      "Actual list after partitioning [11, 9, 8, 19, 21, 31]\n",
      "New pivot position:  5\n",
      "------------------\n",
      "Actual pivot 19\n",
      "Actual list before partitioning [11, 9, 8, 19]\n",
      "Actual list after partitioning [11, 9, 8, 19]\n",
      "New pivot position:  4\n",
      "------------------\n",
      "Actual pivot 8\n",
      "Actual list before partitioning [11, 9, 8]\n",
      "Actual list after partitioning [8, 9, 11]\n",
      "New pivot position:  1\n",
      "------------------\n",
      "Actual pivot 11\n",
      "Actual list before partitioning [9, 11]\n",
      "Actual list after partitioning [9, 11]\n",
      "New pivot position:  3\n",
      "------------------\n"
     ]
    },
    {
     "data": {
      "text/plain": [
       "[1, 8, 9, 11, 19, 21, 31]"
      ]
     },
     "execution_count": 24,
     "metadata": {},
     "output_type": "execute_result"
    }
   ],
   "source": [
    "my_unsorted_list = [21,11,31,9,8,19,1]\n",
    "my_list = my_unsorted_list\n",
    "quickSortLomoto(my_unsorted_list, 0, len(my_unsorted_list)-1)"
   ]
  },
  {
   "cell_type": "markdown",
   "metadata": {},
   "source": [
    "### Quicksort with partition algorithm of Hoare\n",
    "Example following pseudocode taken from [Wikipedia](https://en.wikipedia.org/wiki/Quicksort)"
   ]
  },
  {
   "cell_type": "code",
   "execution_count": 16,
   "metadata": {
    "collapsed": true
   },
   "outputs": [],
   "source": [
    "def partitionHoare(my_list, low, high):\n",
    "    pivot = my_list[low]\n",
    "    print(\"Actual pivot\", pivot)\n",
    "    print(\"Actual list before partitioning\", my_list[low:high])\n",
    "    i = low\n",
    "    j = high\n",
    "    \n",
    "    while True:\n",
    "        while my_list[i] < pivot:\n",
    "            i = i + 1\n",
    "            print(i)\n",
    "        while my_list[j] > pivot:\n",
    "            j = j - 1\n",
    "            print(j)\n",
    "        if i >= j:\n",
    "            print(\"Actual list after partitioning\", my_list[low:high])\n",
    "            print(\"New pivot position: \", pivot)\n",
    "            print(\"------------------\")\n",
    "            return j\n",
    "        else:\n",
    "            my_list[i], my_list[j] = my_list[j], my_list[i]\n",
    "    return pivot\n",
    "\n",
    "def quickSortHoare(my_list, low, high):\n",
    "    if low < high:\n",
    "        pivot = partitionHoare(my_list, low, high)\n",
    "        quickSortHoare(my_list, low, pivot)\n",
    "        quickSortHoare(my_list, pivot+1, high)\n",
    "    return my_list"
   ]
  },
  {
   "cell_type": "code",
   "execution_count": 20,
   "metadata": {},
   "outputs": [
    {
     "name": "stdout",
     "output_type": "stream",
     "text": [
      "Actual pivot 21\n",
      "Actual list before partitioning [21, 11, 31, 9, 25, 8, 19]\n",
      "1\n",
      "2\n",
      "6\n",
      "3\n",
      "4\n",
      "5\n",
      "5\n",
      "Actual list after partitioning [1, 11, 19, 9, 8, 21, 25]\n",
      "New pivot position:  21\n",
      "------------------\n",
      "Actual pivot 1\n",
      "Actual list before partitioning [1, 11, 19, 9, 8]\n",
      "4\n",
      "3\n",
      "2\n",
      "1\n",
      "0\n",
      "Actual list after partitioning [1, 11, 19, 9, 8]\n",
      "New pivot position:  1\n",
      "------------------\n",
      "Actual pivot 11\n",
      "Actual list before partitioning [11, 19, 9, 8]\n",
      "4\n",
      "2\n",
      "3\n",
      "3\n",
      "Actual list after partitioning [8, 9, 11, 19]\n",
      "New pivot position:  11\n",
      "------------------\n",
      "Actual pivot 8\n",
      "Actual list before partitioning [8, 9]\n",
      "2\n",
      "1\n",
      "Actual list after partitioning [8, 9]\n",
      "New pivot position:  8\n",
      "------------------\n",
      "Actual pivot 9\n",
      "Actual list before partitioning [9]\n",
      "2\n",
      "Actual list after partitioning [9]\n",
      "New pivot position:  9\n",
      "------------------\n",
      "Actual pivot 19\n",
      "Actual list before partitioning [19]\n",
      "4\n",
      "Actual list after partitioning [19]\n",
      "New pivot position:  19\n",
      "------------------\n",
      "Actual pivot 25\n",
      "Actual list before partitioning [25]\n",
      "6\n",
      "Actual list after partitioning [25]\n",
      "New pivot position:  25\n",
      "------------------\n"
     ]
    },
    {
     "data": {
      "text/plain": [
       "[1, 8, 9, 11, 19, 21, 25, 31]"
      ]
     },
     "execution_count": 20,
     "metadata": {},
     "output_type": "execute_result"
    }
   ],
   "source": [
    "my_unsorted_list = [21,11,31,9, 25, 8,19,1]\n",
    "my_list = my_unsorted_list\n",
    "quickSortHoare(my_unsorted_list, 0, len(my_unsorted_list)-1)"
   ]
  },
  {
   "cell_type": "markdown",
   "metadata": {},
   "source": [
    "### Merge sort\n",
    "Example following pseudocode taken from [Wikipedia](https://en.wikipedia.org/wiki/Merge_sort)"
   ]
  },
  {
   "cell_type": "code",
   "execution_count": 42,
   "metadata": {},
   "outputs": [
    {
     "name": "stdout",
     "output_type": "stream",
     "text": [
      "Left list : [54, 26, 93, 17] Right list : [77, 31, 44, 55, 20]\n",
      "Left list : [54, 26] Right list : [93, 17]\n",
      "Left list : [54] Right list : [26]\n",
      "Merging...\n",
      "Left : 54 Right : 26\n",
      "Result : [26]\n",
      "Left : 54\n",
      "Result : [26, 54]\n",
      "------------------\n",
      "Left list : [93] Right list : [17]\n",
      "Merging...\n",
      "Left : 93 Right : 17\n",
      "Result : [17]\n",
      "Left : 93\n",
      "Result : [17, 93]\n",
      "------------------\n",
      "Merging...\n",
      "Left : 26 Right : 17\n",
      "Result : [17]\n",
      "Left : 26 Right : 93\n",
      "Result : [17, 26]\n",
      "Left : 54 Right : 93\n",
      "Result : [17, 26, 54]\n",
      "Right : 93\n",
      "Result : [17, 26, 54, 93]\n",
      "------------------\n",
      "Left list : [77, 31] Right list : [44, 55, 20]\n",
      "Left list : [77] Right list : [31]\n",
      "Merging...\n",
      "Left : 77 Right : 31\n",
      "Result : [31]\n",
      "Left : 77\n",
      "Result : [31, 77]\n",
      "------------------\n",
      "Left list : [44] Right list : [55, 20]\n",
      "Left list : [55] Right list : [20]\n",
      "Merging...\n",
      "Left : 55 Right : 20\n",
      "Result : [20]\n",
      "Left : 55\n",
      "Result : [20, 55]\n",
      "------------------\n",
      "Merging...\n",
      "Left : 44 Right : 20\n",
      "Result : [20]\n",
      "Left : 44 Right : 55\n",
      "Result : [20, 44]\n",
      "Right : 55\n",
      "Result : [20, 44, 55]\n",
      "------------------\n",
      "Merging...\n",
      "Left : 31 Right : 20\n",
      "Result : [20]\n",
      "Left : 31 Right : 44\n",
      "Result : [20, 31]\n",
      "Left : 77 Right : 44\n",
      "Result : [20, 31, 44]\n",
      "Left : 77 Right : 55\n",
      "Result : [20, 31, 44, 55]\n",
      "Left : 77\n",
      "Result : [20, 31, 44, 55, 77]\n",
      "------------------\n",
      "Merging...\n",
      "Left : 17 Right : 20\n",
      "Result : [17]\n",
      "Left : 26 Right : 20\n",
      "Result : [17, 20]\n",
      "Left : 26 Right : 31\n",
      "Result : [17, 20, 26]\n",
      "Left : 54 Right : 31\n",
      "Result : [17, 20, 26, 31]\n",
      "Left : 54 Right : 44\n",
      "Result : [17, 20, 26, 31, 44]\n",
      "Left : 54 Right : 55\n",
      "Result : [17, 20, 26, 31, 44, 54]\n",
      "Left : 93 Right : 55\n",
      "Result : [17, 20, 26, 31, 44, 54, 55]\n",
      "Left : 93 Right : 77\n",
      "Result : [17, 20, 26, 31, 44, 54, 55, 77]\n",
      "Left : 93\n",
      "Result : [17, 20, 26, 31, 44, 54, 55, 77, 93]\n",
      "------------------\n",
      "[17, 20, 26, 31, 44, 54, 55, 77, 93]\n"
     ]
    }
   ],
   "source": [
    "def mergeSort(my_list):\n",
    "    if len(my_list) <= 1:\n",
    "        return my_list\n",
    "\n",
    "    half = len(my_list)//2\n",
    "    left_list = my_list[:half]\n",
    "    right_list = my_list[half:]\n",
    "    print(\"Left list :\", left_list, \"Right list :\", right_list)\n",
    "\n",
    "    left_list = mergeSort(left_list)\n",
    "    right_list = mergeSort(right_list)\n",
    "    \n",
    "    return merge(left_list, right_list)\n",
    "\n",
    "def merge(left_list, right_list):\n",
    "    print(\"Merging...\")\n",
    "    result = []\n",
    "    while len(left_list) > 0 and len(right_list) > 0:\n",
    "        if left_list[0] < right_list[0]:\n",
    "            print(\"Left :\", left_list[0], \"Right :\", right_list[0])\n",
    "            result.append(left_list.pop(0))\n",
    "            print(\"Result :\", result)\n",
    "        else:\n",
    "            print(\"Left :\", left_list[0], \"Right :\", right_list[0])\n",
    "            result.append(right_list.pop(0))\n",
    "            print(\"Result :\", result)\n",
    "    while len(left_list) > 0:\n",
    "        print(\"Left :\", left_list[0])\n",
    "        result.append(left_list.pop(0))\n",
    "        print(\"Result :\", result)\n",
    "    while len(right_list) > 0:\n",
    "        print(\"Right :\", right_list[0])\n",
    "        result.append(right_list.pop(0))\n",
    "        print(\"Result :\", result)\n",
    "    print(\"------------------\")\n",
    "    return result\n",
    "\n",
    "alist = [54,26,93,17,77,31,44,55,20]\n",
    "sort = mergeSort(alist)\n",
    "print(sort)\n"
   ]
  }
 ],
 "metadata": {
  "celltoolbar": "Attachments",
  "kernelspec": {
   "display_name": "Python 3",
   "language": "python",
   "name": "python3"
  },
  "language_info": {
   "codemirror_mode": {
    "name": "ipython",
    "version": 3
   },
   "file_extension": ".py",
   "mimetype": "text/x-python",
   "name": "python",
   "nbconvert_exporter": "python",
   "pygments_lexer": "ipython3",
   "version": "3.6.1"
  }
 },
 "nbformat": 4,
 "nbformat_minor": 2
}
