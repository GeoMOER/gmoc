{
 "cells": [
  {
   "cell_type": "markdown",
   "metadata": {},
   "source": [
    "## Conditionals\n",
    "\n",
    "You have already encountered conditional (or comparison) operators in this course <a href=\"https://oer.uni-marburg.de/goto.php?target=pg_2624_720&client_id=mriliasmooc\">before</a> (not least during our session on `while` loops), performed simple arithmetic comparisons and probably came across them in other programming languages as well &ndash; so what comes next should be 'old hat'.\n",
    "\n",
    "Briefly, conditional statements in the form of simple `if` statements tell Python to perform a certain action depending on whether the stated condition is `True` or `False` (in this context, please note that these two so-called _Boolean_ values are always written without quotes!). The syntax of a simple `if` statement is \n",
    "\n",
    "> `if` condition `:` <br>\n",
    "> &ensp;&ensp;&ensp;indentedStatement\n",
    "\n",
    "which translates into \"If the stated condition evaluates to `True`, execute the indented statement.\" Or, to express this in a more visual form:\n",
    "\n",
    "<br>\n",
    "<center>\n",
    "  <figure>\n",
    "    <img src=\"https://www.tutorialspoint.com/python/images/if_else_statement.jpg\" alt=\"nino-3.4\" width=\"275\">  \n",
    "    <figcaption>Source: https://www.tutorialspoint.com</figcaption>\n",
    "  </figure> \n",
    "</center>\n",
    "<br>\n",
    "\n",
    "Just like loop constructs in Python, indentation is mandatory for any kind of conditional statement. Accordingly, in its most basic form, a simple `if` statement would look as follows:"
   ]
  },
  {
   "cell_type": "code",
   "execution_count": 1,
   "metadata": {},
   "outputs": [
    {
     "name": "stdout",
     "output_type": "stream",
     "text": [
      "Larger than zero.\n"
     ]
    }
   ],
   "source": [
    "m = 5\n",
    "\n",
    "if m > 0:\n",
    "    print(\"Larger than zero.\")"
   ]
  },
  {
   "cell_type": "markdown",
   "metadata": {},
   "source": [
    "In this example, it is `True` that our variable `m` is larger than zero, and therefore, the `print` call ('if code' in the above figure) is executed. Now, what if the condition were not `True`? Well..."
   ]
  },
  {
   "cell_type": "code",
   "execution_count": 2,
   "metadata": {
    "collapsed": true
   },
   "outputs": [],
   "source": [
    "n = -5\n",
    "\n",
    "if n > 0:\n",
    "    print(\"Larger than zero.\")"
   ]
  },
  {
   "cell_type": "markdown",
   "metadata": {},
   "source": [
    "In such a case, the condition evaluates to `False` and the `print` call included in the indented statement is simply skipped. However, showing (or rather creating) no output at all is not always desirable, and in the majority of use cases, there will definitely be a pool of two or more possibilities that need to be taken into consideration. \n",
    "\n",
    "In order to overcome such limitations of simple `if` statements, we could insert an `else` clause followed by a code body that should be executed once the initial condition evaluates to `False` ('else code' in the above figure) in order for our code to behave more informative."
   ]
  },
  {
   "cell_type": "code",
   "execution_count": 3,
   "metadata": {},
   "outputs": [
    {
     "name": "stdout",
     "output_type": "stream",
     "text": [
      "Smaller than or equal to zero.\n"
     ]
    }
   ],
   "source": [
    "if n > 0:\n",
    "    print(\"Larger than zero.\")\n",
    "else:\n",
    "    print(\"Smaller than or equal to zero.\")"
   ]
  },
  {
   "cell_type": "markdown",
   "metadata": {},
   "source": [
    "At this point, be aware that the lines including `if` and `else` are not indented, whereas the related code bodies are. Due to the black-and-white nature of such an `if-else` statement, exactly one out of two possible blocks is executed. Starting from the top, \n",
    "\n",
    "* the `if` statement is evaluated and returns `False` (because `n` is _not_ larger than zero), \n",
    "* hence the indented 'if code' underneath is skipped. \n",
    "* Our code now jumps directly to the next statement that is _not_ indented \n",
    "* and evaluates the `else` statement included therein. \n",
    "* Since `else` means: \"Perform the following operation if all previous conditional statements (plural!) failed\", which evaluates to `True` in our case, \n",
    "* the subsequent `print` operation is executed.\n",
    "\n",
    "Now, what if we wanted to know if a value is larger than, smaller than, or equal to zero, i.e. add another layer of information to our initial condition \"Is a value larger than zero or not?\". In order to solve this, `elif` (short for 'else if' in other languages) is the right way to go as it lets you insert an arbitrary number of additional conditions between `if` and `else` that go beyond the rather basic capabilities of `else`."
   ]
  },
  {
   "cell_type": "code",
   "execution_count": 4,
   "metadata": {},
   "outputs": [
    {
     "name": "stdout",
     "output_type": "stream",
     "text": [
      "Smaller than zero.\n"
     ]
    }
   ],
   "source": [
    "if n > 0:\n",
    "    print(\"Larger than zero.\")\n",
    "elif n < 0:\n",
    "    print(\"Smaller than zero.\")\n",
    "else:\n",
    "    print(\"Exactly zero.\")"
   ]
  },
  {
   "cell_type": "markdown",
   "metadata": {},
   "source": [
    "And similarly,"
   ]
  },
  {
   "cell_type": "code",
   "execution_count": 5,
   "metadata": {},
   "outputs": [
    {
     "name": "stdout",
     "output_type": "stream",
     "text": [
      "Exactly zero.\n"
     ]
    }
   ],
   "source": [
    "p = 0\n",
    "\n",
    "if p > 0:\n",
    "    print(\"Larger than zero.\")\n",
    "elif p < 0:\n",
    "    print(\"Smaller than zero.\")\n",
    "else:\n",
    "    print(\"Exactly zero.\")"
   ]
  },
  {
   "cell_type": "markdown",
   "metadata": {},
   "source": [
    "Of course, indented blocks can have more than one statement, i.e. consist of multiple indented lines of code. In addition, they can embrace, or be embraced by, `for` or `while` loops. For example, if we wanted to count all the non-negative entries in a `list`, the following code snippet would be a proper solution that relies on both of the aforementioned features."
   ]
  },
  {
   "cell_type": "code",
   "execution_count": 1,
   "metadata": {},
   "outputs": [
    {
     "name": "stdout",
     "output_type": "stream",
     "text": [
      "The value at position 0 is larger than or equal to zero.\n",
      "The value at position 1 is larger than or equal to zero.\n",
      "The value at position 2 is smaller than zero.\n",
      "The value at position 3 is smaller than zero.\n",
      "The value at position 4 is larger than or equal to zero.\n",
      "The value at position 5 is larger than or equal to zero.\n",
      "The value at position 6 is smaller than zero.\n",
      "\n",
      "\n",
      "4 out of 7 elements are larger than or equal to zero.\n"
     ]
    }
   ],
   "source": [
    "x = [0, 3, -6, -2, 7, 1, -4]\n",
    "\n",
    "## set a counter\n",
    "n = 0\n",
    "\n",
    "for i in range(len(x)):\n",
    "    # if a non-negative integer is found, increment the counter by 1\n",
    "    if x[i] >= 0:\n",
    "        print(\"The value at position\", i, \"is larger than or equal to zero.\")\n",
    "        n += 1\n",
    "    # else do not increment the counter    \n",
    "    else:\n",
    "        print(\"The value at position\", i, \"is smaller than zero.\")\n",
    "        \n",
    "    if i == (len(x)-1):\n",
    "        print(\"\\n\")\n",
    "        \n",
    "print(n, \"out of\", len(x), \"elements are larger than or equal to zero.\")       "
   ]
  },
  {
   "cell_type": "markdown",
   "metadata": {},
   "source": [
    "<hr>\n",
    "\n",
    "### Brief digression: `continue` and `break`\n",
    "\n",
    "There are (at least) two key words that allow for an even finer control of what happens inside a `for` loop, viz.\n",
    "\n",
    "* `continue` and\n",
    "* `break`.\n",
    "\n",
    "As the name implies, `continue` moves directly on to the next iteration of a loop without executing the remaining code body."
   ]
  },
  {
   "cell_type": "code",
   "execution_count": 6,
   "metadata": {},
   "outputs": [
    {
     "name": "stdout",
     "output_type": "stream",
     "text": [
      "0\n",
      "2\n",
      "4\n"
     ]
    }
   ],
   "source": [
    "for i in range(5):\n",
    "    if i in [1, 3]:\n",
    "        continue\n",
    "    print(i)    "
   ]
  },
  {
   "cell_type": "markdown",
   "metadata": {},
   "source": [
    "`break`, on the other hand, breaks out of the innermost loop. Here, (i) the remaining code body following the `break` statement in the current iteration, but also (ii) any outstanding iterations are not executed anymore."
   ]
  },
  {
   "cell_type": "code",
   "execution_count": 7,
   "metadata": {},
   "outputs": [
    {
     "name": "stdout",
     "output_type": "stream",
     "text": [
      "0\n",
      "1\n"
     ]
    }
   ],
   "source": [
    "for i in range(5):\n",
    "    if i == 2:\n",
    "        break\n",
    "    print(i)    "
   ]
  },
  {
   "cell_type": "markdown",
   "metadata": {},
   "source": [
    "Bear in mind that `break` jumps out of the innermost loop only. This still means that other `for` (or `while`) loops embracing the one broken out from will continue running until the last item has been processed (or the condition is no longer `True`). See also the official <a href=\"https://docs.python.org/2/tutorial/controlflow.html\">Python Docs</a> for a full list of control flow tools.\n",
    "\n",
    "\n",
    "<hr>\n",
    "\n",
    "Alright, now that you know your way around with conditional `if-elif-else` constructs, its time to move on to some more sophisticated use-case scenarios. Therefore, head over to <a href=\"https://oer.uni-marburg.de/goto.php?target=pg_5104_720&client_id=mriliasmooc\">W02-2: Conditionals</a> and tackle the tasks waiting for you there."
   ]
  }
 ],
 "metadata": {
  "kernelspec": {
   "display_name": "Python 3",
   "language": "python",
   "name": "python3"
  },
  "language_info": {
   "codemirror_mode": {
    "name": "ipython",
    "version": 3
   },
   "file_extension": ".py",
   "mimetype": "text/x-python",
   "name": "python",
   "nbconvert_exporter": "python",
   "pygments_lexer": "ipython3",
   "version": "3.6.3"
  }
 },
 "nbformat": 4,
 "nbformat_minor": 2
}
