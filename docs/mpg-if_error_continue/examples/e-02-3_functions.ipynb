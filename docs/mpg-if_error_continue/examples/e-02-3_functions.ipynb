{
 "cells": [
  {
   "cell_type": "markdown",
   "metadata": {},
   "source": [
    "## Functions\n",
    "\n",
    "Functions in Python work straight-forward: They (optionally) require a set of inputs, perform some internal operations, and return a result. Now, we could either go on talking about the basic syntax of function declaration, how the whole story works, etc... OR we could simply take a look at the following image that puts it all in a graphical, and hence, easy-to-understand context (all the credit is due to <a href=\"http://learnict.it/computerscienceposters/\">LearnICT.it</a>):\n",
    "\n",
    "<br>\n",
    "<center>\n",
    "  <figure>\n",
    "    <img src=\"http://hcc-cs.weebly.com/uploads/2/4/5/3/24535251/1088210.jpg?1390056443\" alt=\"functions\" width=\"690\">  \n",
    "    <figcaption>Source: http://hcc-cs.weebly.com/functions.html</figcaption>\n",
    "  </figure> \n",
    "</center>\n",
    "<br>\n",
    "\n",
    "Okay, so just for the record, here's the syntax of function definitions in Python:\n",
    "\n",
    "> `def` **function_name** `() :` <br>\n",
    "> &ensp;&ensp;&ensp;indentedFunctionBody\n",
    "\n",
    "So, what's the purpose of functions anyway? Well... suppose we wanted to write some Python code that reproduces the lines of the famous \"Happy Birthday\" song (taken from <a href=\"http://anh.cs.luc.edu/python/hands-on/3.1/handsonHtml/functions.html\">here</a>). In order to achieve this and assuming our birthday child's name is Chris, we could simply use some `print` calls:"
   ]
  },
  {
   "cell_type": "code",
   "execution_count": 1,
   "metadata": {},
   "outputs": [
    {
     "name": "stdout",
     "output_type": "stream",
     "text": [
      "Happy birthday to you.\n",
      "Happy birthday to you.\n",
      "Happy birthday, dear Chris.\n",
      "Happy birthday to you.\n"
     ]
    }
   ],
   "source": [
    "print(\"Happy birthday to you.\")\n",
    "print(\"Happy birthday to you.\")\n",
    "print(\"Happy birthday, dear Chris.\")\n",
    "print(\"Happy birthday to you.\")"
   ]
  },
  {
   "cell_type": "markdown",
   "metadata": {},
   "source": [
    "But what if we wanted to reuse this code to congratulate someone else, e.g. named Thomas? There's basically two (fundamentally different) approaches here: We could either copy and paste the above code, replacing the name of the birthday child:"
   ]
  },
  {
   "cell_type": "code",
   "execution_count": 2,
   "metadata": {},
   "outputs": [
    {
     "name": "stdout",
     "output_type": "stream",
     "text": [
      "Happy birthday to you.\n",
      "Happy birthday to you.\n",
      "Happy birthday, dear Thomas.\n",
      "Happy birthday to you.\n"
     ]
    }
   ],
   "source": [
    "print(\"Happy birthday to you.\")\n",
    "print(\"Happy birthday to you.\")\n",
    "print(\"Happy birthday, dear Thomas.\")\n",
    "print(\"Happy birthday to you.\")"
   ]
  },
  {
   "cell_type": "markdown",
   "metadata": {},
   "source": [
    "Or &ndash; and here's where the high art of programming actually begins &ndash; write a function that takes a certain input variable (i.e. the name), performs some processing steps (i.e. put the single lines together), and returns the result (i.e. the complete song)."
   ]
  },
  {
   "cell_type": "code",
   "execution_count": 3,
   "metadata": {},
   "outputs": [
    {
     "name": "stdout",
     "output_type": "stream",
     "text": [
      "Happy birthday to you.\n",
      "Happy birthday to you.\n",
      "Happy birthday, dear Thomas.\n",
      "Happy birthday to you.\n"
     ]
    }
   ],
   "source": [
    "def birthdaySong(name):\n",
    "    print(\"Happy birthday to you.\")\n",
    "    print(\"Happy birthday to you.\")\n",
    "    print(\"Happy birthday, dear \", name, \".\", sep = \"\")\n",
    "    print(\"Happy birthday to you.\")\n",
    "    \n",
    "birthdaySong(name = \"Thomas\")    "
   ]
  },
  {
   "cell_type": "markdown",
   "metadata": {},
   "source": [
    "Using our newly gained knowledge about <a href=\"https://oer.uni-marburg.de/goto.php?target=pg_5101_720&client_id=mriliasmooc\">E02-1: Loops</a> and <a href=\"https://oer.uni-marburg.de/goto.php?target=pg_5102_720&client_id=mriliasmooc\">E02-2: Conditionals</a> from before, we could take this even a step further and restructure the function's body using a `for` loop together with embedded `if-else` statements:"
   ]
  },
  {
   "cell_type": "code",
   "execution_count": 4,
   "metadata": {},
   "outputs": [
    {
     "name": "stdout",
     "output_type": "stream",
     "text": [
      "Happy birthday to you.\n",
      "Happy birthday to you.\n",
      "Happy birthday, dear Chris.\n",
      "Happy birthday to you.\n"
     ]
    }
   ],
   "source": [
    "def birthdaySong(name = \"Chris\"):\n",
    "    for i in range(4):\n",
    "        if (i != 2):\n",
    "            print(\"Happy birthday to you.\")\n",
    "        else:\n",
    "            print(\"Happy birthday, dear \", name, \".\", sep = \"\")\n",
    "            \n",
    "birthdaySong()            "
   ]
  },
  {
   "cell_type": "markdown",
   "metadata": {},
   "source": [
    "Please note that in the latter version, we also set a default value for `name` in order to save some typing work on Chris's birthday. In the end, it is totally up to you which of the two versions you prefer, i.e. four `print` statements in a row or rather the nested `for`/`if-else` solution. "
   ]
  },
  {
   "cell_type": "markdown",
   "metadata": {},
   "source": [
    "<hr>\n",
    "\n",
    "### The `return` statement\n",
    "\n",
    "So far, you have only encountered selfmade functions that `print` some text to the console. However, the majority of functions you'll be writing in the future need to perform actual calculations based on a set of input variables and then return an output object. \n",
    "\n",
    "Therefore, in addition to the things we have just learned, bear in mind to insert a `return` statement whenever you are actually trying to return an object. For example, "
   ]
  },
  {
   "cell_type": "code",
   "execution_count": 5,
   "metadata": {},
   "outputs": [
    {
     "data": {
      "text/plain": [
       "()"
      ]
     },
     "execution_count": 5,
     "metadata": {},
     "output_type": "execute_result"
    }
   ],
   "source": [
    "def f1():\n",
    "    return()\n",
    "\n",
    "f1()"
   ]
  },
  {
   "cell_type": "markdown",
   "metadata": {},
   "source": [
    "returns an empty `tuple`, whereas"
   ]
  },
  {
   "cell_type": "code",
   "execution_count": 6,
   "metadata": {},
   "outputs": [
    {
     "data": {
      "text/plain": [
       "5"
      ]
     },
     "execution_count": 6,
     "metadata": {},
     "output_type": "execute_result"
    }
   ],
   "source": [
    "def f2():\n",
    "    return(5)\n",
    "\n",
    "f2()"
   ]
  },
  {
   "cell_type": "markdown",
   "metadata": {},
   "source": [
    "returns an `int` object. Accordingly, a custom `sum` function that takes a sequence of numbers as input could roughly look as follows:"
   ]
  },
  {
   "cell_type": "code",
   "execution_count": 7,
   "metadata": {},
   "outputs": [
    {
     "data": {
      "text/plain": [
       "15.0"
      ]
     },
     "execution_count": 7,
     "metadata": {},
     "output_type": "execute_result"
    }
   ],
   "source": [
    "def sumPy(x):\n",
    "    out = 0.0\n",
    "    \n",
    "    for i in x:\n",
    "        out += i\n",
    "        \n",
    "    return(out)\n",
    "\n",
    "sumPy(range(0, 6))"
   ]
  },
  {
   "cell_type": "markdown",
   "metadata": {},
   "source": [
    "You should feel a little more familiar with declaring functions in Python now. In order to practice a little bit, head over to <a href=\"https://oer.uni-marburg.de/goto.php?target=pg_5106_720&client_id=mriliasmooc\">W02-3: Functions</a> and do some finger exercises."
   ]
  }
 ],
 "metadata": {
  "kernelspec": {
   "display_name": "Python 3",
   "language": "python",
   "name": "python3"
  },
  "language_info": {
   "codemirror_mode": {
    "name": "ipython",
    "version": 3
   },
   "file_extension": ".py",
   "mimetype": "text/x-python",
   "name": "python",
   "nbconvert_exporter": "python",
   "pygments_lexer": "ipython3",
   "version": "3.6.1"
  }
 },
 "nbformat": 4,
 "nbformat_minor": 2
}
