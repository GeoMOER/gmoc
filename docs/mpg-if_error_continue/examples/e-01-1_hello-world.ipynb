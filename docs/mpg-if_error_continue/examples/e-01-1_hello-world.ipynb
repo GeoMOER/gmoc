{
 "cells": [
  {
   "cell_type": "markdown",
   "metadata": {},
   "source": [
    "## Hello, World!\n",
    "\n",
    "Following an old tradition among programmers, we're going to start our Python adventure with a [\"Hello, world!\"](https://en.wikipedia.org/wiki/%22Hello,_World!%22_program) program. Similar to other programming languages (e.g. [R](https://www.r-project.org/)), Python comes with a `print()` function that helps us achieve this task."
   ]
  },
  {
   "cell_type": "code",
   "execution_count": 1,
   "metadata": {},
   "outputs": [
    {
     "name": "stdout",
     "output_type": "stream",
     "text": [
      "Hello, world!\n"
     ]
    }
   ],
   "source": [
    "print(\"Hello, world!\")"
   ]
  },
  {
   "cell_type": "markdown",
   "metadata": {},
   "source": [
    "As seen from the above example, `print()` takes a textual value (or any other Python object) as input and prints its contents (or information about the object) to a so-called output stream. In our case, this stream is directed to the console window right below the \"Hello, World!\" code chunk.\n",
    "\n",
    "Alright, first step taken! Of course, `print()` also comes with a set of optional arguments to provide finer control of the created output. A list of, as well as details about, these optional parameters can be retrieved from the corresponding help pages, which also provide further information about the function itself, through putting a question mark (`?`) right in front of the function's name."
   ]
  },
  {
   "cell_type": "code",
   "execution_count": 2,
   "metadata": {
    "collapsed": true
   },
   "outputs": [],
   "source": [
    "?print"
   ]
  },
  {
   "cell_type": "markdown",
   "metadata": {},
   "source": [
    "The most relevant optional keyword arguments supported by `print()` are (default values in brackets)\n",
    "\n",
    "* `sep`: string inserted between the single input values (`' '`)\n",
    "* `end`: string appended after the last value (`'\\n'`)\n",
    "* `file`: a file-like object aka stream (`sys.stdout`)\n",
    "\n",
    "For example, suppose we have two parts of a sentence that we would like to put together to form a complete sentence but, at the same time, separate them by `[...]`, which is a rather common notation in scientific literature. Taking into account the list of optional parameters, this could then be easily achieved:"
   ]
  },
  {
   "cell_type": "code",
   "execution_count": 3,
   "metadata": {},
   "outputs": [
    {
     "name": "stdout",
     "output_type": "stream",
     "text": [
      "This is [...] some text.\n"
     ]
    }
   ],
   "source": [
    "print(\"This is\", \"some text.\", sep = \" [...] \")"
   ]
  }
 ],
 "metadata": {
  "kernelspec": {
   "display_name": "Python 3",
   "language": "python",
   "name": "python3"
  },
  "language_info": {
   "codemirror_mode": {
    "name": "ipython",
    "version": 3
   },
   "file_extension": ".py",
   "mimetype": "text/x-python",
   "name": "python",
   "nbconvert_exporter": "python",
   "pygments_lexer": "ipython3",
   "version": "3.6.3"
  }
 },
 "nbformat": 4,
 "nbformat_minor": 2
}
