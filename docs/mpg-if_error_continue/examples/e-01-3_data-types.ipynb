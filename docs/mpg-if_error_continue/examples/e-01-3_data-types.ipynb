{
 "cells": [
  {
   "cell_type": "markdown",
   "metadata": {},
   "source": [
    "## Data types\n",
    "\n",
    "At this point, it is probably a good idea to take a deeper look at data types. In general, there are five different standard data types in Python:\n",
    "\n",
    "* _numbers_, \n",
    "* _strings_, \n",
    "* _lists_, \n",
    "* _tuples_, and\n",
    "* _dictionaries_."
   ]
  },
  {
   "cell_type": "markdown",
   "metadata": {},
   "source": [
    "<hr>\n",
    "\n",
    "#### Numbers\n",
    "\n",
    "You have already encountered numeric data formats in one of the previous examples. For now, it is important to distinguish between\n",
    "\n",
    "* signed integers (`int`) and\n",
    "* floating point real values (`float`).\n",
    "\n",
    "In order to find out to which numeric format &ndash; or any other kind of data format, for that matter &ndash; an object belongs, simply use `type()` (remember that you can access the corresponding help pages at any time using `?type`)."
   ]
  },
  {
   "cell_type": "code",
   "execution_count": 1,
   "metadata": {},
   "outputs": [
    {
     "data": {
      "text/plain": [
       "int"
      ]
     },
     "execution_count": 1,
     "metadata": {},
     "output_type": "execute_result"
    }
   ],
   "source": [
    "a = 5\n",
    "type(a)"
   ]
  },
  {
   "cell_type": "code",
   "execution_count": 2,
   "metadata": {},
   "outputs": [
    {
     "data": {
      "text/plain": [
       "float"
      ]
     },
     "execution_count": 2,
     "metadata": {},
     "output_type": "execute_result"
    }
   ],
   "source": [
    "b = 2.5\n",
    "type(b)"
   ]
  },
  {
   "cell_type": "markdown",
   "metadata": {},
   "source": [
    "<hr>\n",
    "\n",
    "#### Brief digression: `for` loops\n",
    "\n",
    "Of course, we could have easily generated this output in one go. In order to repeat what we have learned about `print()` and multiple assignments and, at the same time, take a brief look at `for` loop structures that will be discussed in detail later on, here's one possible solution:"
   ]
  },
  {
   "cell_type": "code",
   "execution_count": 3,
   "metadata": {},
   "outputs": [
    {
     "name": "stdout",
     "output_type": "stream",
     "text": [
      "5, <class 'int'>\n",
      "2.5, <class 'float'>\n"
     ]
    }
   ],
   "source": [
    "a, b = 5, 2.5\n",
    "\n",
    "for i in [a, b]:\n",
    "    print(i, type(i), sep = \", \")"
   ]
  },
  {
   "cell_type": "markdown",
   "metadata": {},
   "source": [
    "And here is what happens inside such a `for` loop. As said, we will come back to that in a follow-up session...\n",
    "<br>\n",
    "<br>\n",
    "\n",
    "<center>\n",
    "  <figure>\n",
    "    <img src=\"https://www.tutorialspoint.com/python/images/python_for_loop.jpg\" alt=\"for-loop\" height=\"300\">  \n",
    "    <figcaption>Source: https://www.tutorialspoint.com/python/python_for_loop.htm</figcaption>\n",
    "  </figure> \n",
    "</center>"
   ]
  },
  {
   "cell_type": "markdown",
   "metadata": {},
   "source": [
    "<hr>\n",
    "\n",
    "#### Strings\n",
    "\n",
    "Strings (`str`) are another data type that you have &ndash; perhaps unconsciously &ndash; seen before. In fact, our \"Hello, world!\" example could have also been written as follows:"
   ]
  },
  {
   "cell_type": "code",
   "execution_count": 4,
   "metadata": {},
   "outputs": [
    {
     "name": "stdout",
     "output_type": "stream",
     "text": [
      "Hello, world!\n"
     ]
    }
   ],
   "source": [
    "world = \"Hello, world!\"\n",
    "print(world)"
   ]
  },
  {
   "cell_type": "markdown",
   "metadata": {},
   "source": [
    "Here, notice that we no longer feed a sequence of characters directly into `print()`, but at first create a variable called `world` of type"
   ]
  },
  {
   "cell_type": "code",
   "execution_count": 5,
   "metadata": {},
   "outputs": [
    {
     "data": {
      "text/plain": [
       "str"
      ]
     },
     "execution_count": 5,
     "metadata": {},
     "output_type": "execute_result"
    }
   ],
   "source": [
    "type(world)"
   ]
  },
  {
   "cell_type": "markdown",
   "metadata": {},
   "source": [
    "that holds the required string value which is then passed on to `print()`. And that's basically all there is to know about strings in Python: it is simply a contiguous sequence of characters placed between quotation marks (single `''` or double quotes `\"\"`)."
   ]
  },
  {
   "cell_type": "markdown",
   "metadata": {},
   "source": [
    "<hr>\n",
    "\n",
    "#### Brief digression: string slicing\n",
    "\n",
    "This is probably a good point to revolutionize your programming world, at least if you have been working with R until now:\n",
    "\n",
    "> PYTHON STARTS COUNTING AT 0 !\n",
    "\n",
    "As an example, suppose we want to print out only a subset of words included in `world`, e.g. 'Hello', and drop the rest, this means that we MUST NOT create a substring from positions 1 to 5 as"
   ]
  },
  {
   "cell_type": "code",
   "execution_count": 6,
   "metadata": {},
   "outputs": [
    {
     "name": "stdout",
     "output_type": "stream",
     "text": [
      "ello,\n"
     ]
    }
   ],
   "source": [
    "print(world[1:6]) "
   ]
  },
  {
   "cell_type": "markdown",
   "metadata": {},
   "source": [
    "but instead start to count from 0 until we reach the character right next to 'o'. Remember that, when using string slicing, the index specified on the right side of the colon (`:`) specifies the start of the part of our string that needs to be excluded."
   ]
  },
  {
   "cell_type": "code",
   "execution_count": 7,
   "metadata": {},
   "outputs": [
    {
     "name": "stdout",
     "output_type": "stream",
     "text": [
      "Hello\n",
      "Hello\n"
     ]
    }
   ],
   "source": [
    "print(world[0:5])\n",
    "\n",
    "## or similar:\n",
    "print(world[:5])"
   ]
  },
  {
   "cell_type": "markdown",
   "metadata": {},
   "source": [
    "<hr>\n",
    "\n",
    "#### Lists\n",
    "\n",
    "Lists (`list`) probably represent the most flexible standard data structure available in Python in the sense that they can handle multiple data types under the same roof. List declarations start and end with square braquets (`[]`), and items to be arranged in a list must be separated by commas. \n",
    "\n",
    "For example, the above `for` loop or, more precisely, the iterator variable `i` iterated over a member sequence comprising different data types (`int`, `float`) stored in a list."
   ]
  },
  {
   "cell_type": "code",
   "execution_count": 8,
   "metadata": {},
   "outputs": [
    {
     "data": {
      "text/plain": [
       "[5, 2.5]"
      ]
     },
     "execution_count": 8,
     "metadata": {},
     "output_type": "execute_result"
    }
   ],
   "source": [
    "[a, b]"
   ]
  },
  {
   "cell_type": "markdown",
   "metadata": {},
   "source": [
    "Needless to say, this list could be easily extended with strings, among others."
   ]
  },
  {
   "cell_type": "code",
   "execution_count": 9,
   "metadata": {},
   "outputs": [
    {
     "data": {
      "text/plain": [
       "[5, 2.5, 'Hello, world!']"
      ]
     },
     "execution_count": 9,
     "metadata": {},
     "output_type": "execute_result"
    }
   ],
   "source": [
    "lst = [a, b, world]\n",
    "lst"
   ]
  },
  {
   "cell_type": "markdown",
   "metadata": {},
   "source": [
    "Indexing such a list, i.e. accessing one or multiple item(s), via square brackets (`[]`) thereby works much the same way as string slicing. Please note that in addition to the usual counting direction (1, 2, 3, ...), reverse counting is also possible through putting a minus sign (`-`) in front of the index."
   ]
  },
  {
   "cell_type": "code",
   "execution_count": 10,
   "metadata": {},
   "outputs": [
    {
     "data": {
      "text/plain": [
       "[5, 2.5]"
      ]
     },
     "execution_count": 10,
     "metadata": {},
     "output_type": "execute_result"
    }
   ],
   "source": [
    "lst[:2] # 1st and 2nd item"
   ]
  },
  {
   "cell_type": "code",
   "execution_count": 11,
   "metadata": {},
   "outputs": [
    {
     "data": {
      "text/plain": [
       "[2.5, 'Hello, world!']"
      ]
     },
     "execution_count": 11,
     "metadata": {},
     "output_type": "execute_result"
    }
   ],
   "source": [
    "lst[-2:] # 2nd and last item"
   ]
  },
  {
   "cell_type": "markdown",
   "metadata": {},
   "source": [
    "Finally, lists can be modified at any point, e.g."
   ]
  },
  {
   "cell_type": "code",
   "execution_count": 12,
   "metadata": {},
   "outputs": [
    {
     "data": {
      "text/plain": [
       "[10, 2.5, 'Hello, world!']"
      ]
     },
     "execution_count": 12,
     "metadata": {},
     "output_type": "execute_result"
    }
   ],
   "source": [
    "lst2 = lst\n",
    "lst2[0] = lst2[0] * 2\n",
    "lst2"
   ]
  },
  {
   "cell_type": "markdown",
   "metadata": {},
   "source": [
    "Which brings us directly to the next data type..."
   ]
  },
  {
   "cell_type": "markdown",
   "metadata": {},
   "source": [
    "<hr>\n",
    "\n",
    "#### Tuples\n",
    "\n",
    "Tuples (`tuple`) are another way of wrapping up multiple inputs of various data types in a single object, and hence, work in a similar way to lists, with two exceptions:\n",
    "\n",
    "* tuples are initialized with round brackets (`()`) and\n",
    "* represent immutable objects, i.e. cannot be edited afterwards.\n",
    "\n",
    "Maybe it helps to think of tuples as \"read-only\" versions of lists. Accordingly, their creation via"
   ]
  },
  {
   "cell_type": "code",
   "execution_count": 13,
   "metadata": {},
   "outputs": [
    {
     "data": {
      "text/plain": [
       "(5, 2.5, 'Hello, world!')"
      ]
     },
     "execution_count": 13,
     "metadata": {},
     "output_type": "execute_result"
    }
   ],
   "source": [
    "tpl = (a, b, world)\n",
    "tpl"
   ]
  },
  {
   "cell_type": "markdown",
   "metadata": {},
   "source": [
    "works exactly the same (except for the parenthesis), as is the case with slicing, whereas overwriting an existing item is not possible. "
   ]
  },
  {
   "cell_type": "code",
   "execution_count": 14,
   "metadata": {},
   "outputs": [
    {
     "ename": "TypeError",
     "evalue": "'tuple' object does not support item assignment",
     "output_type": "error",
     "traceback": [
      "\u001b[1;31m---------------------------------------------------------------------------\u001b[0m",
      "\u001b[1;31mTypeError\u001b[0m                                 Traceback (most recent call last)",
      "\u001b[1;32m<ipython-input-14-bf3eba7a8b14>\u001b[0m in \u001b[0;36m<module>\u001b[1;34m()\u001b[0m\n\u001b[1;32m----> 1\u001b[1;33m \u001b[0mtpl\u001b[0m\u001b[1;33m[\u001b[0m\u001b[1;36m0\u001b[0m\u001b[1;33m]\u001b[0m \u001b[1;33m=\u001b[0m \u001b[0mtpl\u001b[0m\u001b[1;33m[\u001b[0m\u001b[1;36m0\u001b[0m\u001b[1;33m]\u001b[0m \u001b[1;33m*\u001b[0m \u001b[1;36m2\u001b[0m\u001b[1;33m\u001b[0m\u001b[0m\n\u001b[0m",
      "\u001b[1;31mTypeError\u001b[0m: 'tuple' object does not support item assignment"
     ]
    }
   ],
   "source": [
    "tpl[0] = tpl[0] * 2"
   ]
  },
  {
   "cell_type": "markdown",
   "metadata": {},
   "source": [
    "Despite being immutable by definition, it is possible to append new items to a tuple &ndash; at least <a href=\"https://stackoverflow.com/questions/4913397/how-to-add-value-to-a-tuple\">taking small detours</a> (although lists would likely be a better option here, see `?lst.append`). "
   ]
  },
  {
   "cell_type": "markdown",
   "metadata": {},
   "source": [
    "<hr>\n",
    "\n",
    "#### Dictionaries\n",
    "\n",
    "In contrast to lists, which represent ordered sequences of objects per definitionem, dictionaries are an unordered collection of key-value pairs. Since dealing with unordered sets, single items in a dictionary can be accessed through their corresponding keys rather than an actual index value (so-called <a href=\"https://en.wikipedia.org/wiki/Associative_array\">associative arrays</a>).\n",
    "\n",
    "Dictionaries are implemented as <a href=\"https://en.wikipedia.org/wiki/Hash_table\">hash tables</a> in Python and can be initialized using curly brackets (`{}`). Their keys are usually specified as numbers or strings, whereas values can take on any arbitrary data type. Each key is allowed to appear at most once in a collection and is typically associated (or \"mapped\") to a certain value.\n",
    "\n",
    "To cut a long story short:"
   ]
  },
  {
   "cell_type": "code",
   "execution_count": 15,
   "metadata": {},
   "outputs": [
    {
     "name": "stdout",
     "output_type": "stream",
     "text": [
      "tnauss: 123456\n",
      "fdetsch: 1q2w3e\n",
      "creudel: ('test', 'OSGeo4Life')\n"
     ]
    }
   ],
   "source": [
    "passwords = {\"tnauss\":123456, \"fdetsch\":\"1q2w3e\", \"creudel\":(\"test\", \"OSGeo4Life\")}\n",
    "\n",
    "for user in passwords.keys():\n",
    "    print(user, passwords[user], sep = \": \")"
   ]
  },
  {
   "cell_type": "markdown",
   "metadata": {},
   "source": [
    "As you can see, \n",
    "\n",
    "* dictionary keys can be retreived through appending `.keys()` to the dictionary's name (see `?passwords.keys`), and\n",
    "* just like for lists and tuples, numerous data types are accepted as input values.\n",
    "\n",
    "Of course, these entries DO NOT represent our true course passwords &ndash; whereby at least the last one could be conceivable... &#9786;"
   ]
  }
 ],
 "metadata": {
  "kernelspec": {
   "display_name": "Python 3",
   "language": "python",
   "name": "python3"
  },
  "language_info": {
   "codemirror_mode": {
    "name": "ipython",
    "version": 3
   },
   "file_extension": ".py",
   "mimetype": "text/x-python",
   "name": "python",
   "nbconvert_exporter": "python",
   "pygments_lexer": "ipython3",
   "version": "3.6.2"
  }
 },
 "nbformat": 4,
 "nbformat_minor": 2
}
