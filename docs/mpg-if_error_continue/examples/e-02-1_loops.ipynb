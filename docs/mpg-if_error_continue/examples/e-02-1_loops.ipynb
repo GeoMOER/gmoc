{
 "cells": [
  {
   "cell_type": "markdown",
   "metadata": {},
   "source": [
    "## Loops\n",
    "\n",
    "<hr>\n",
    "\n",
    "### `for` loops\n",
    "\n",
    "In last week's introduction about [data types](https://oer.uni-marburg.de/goto.php?target=pg_2625_720&client_id=mriliasmooc), we already had a first glance at `for` loops. Remember this image:\n",
    "\n",
    "<br>\n",
    "<center>\n",
    "  <figure>\n",
    "    <img src=\"https://www.tutorialspoint.com/python/images/python_for_loop.jpg\" alt=\"for-loop\" height=\"300\">  \n",
    "    <figcaption>Source: https://www.tutorialspoint.com</figcaption>\n",
    "  </figure> \n",
    "</center>\n",
    "<br>\n",
    "\n",
    "In Python, the start and end of a `for` loop &ndash; and, for that matter, of any other control structure and function definition &ndash; is defined by indentation rather than curly brackets (`{}`), as would be the case, for example, in C++ and R. Here, the basic syntax looks as follows:\n",
    "\n",
    "> `for` **item** `in` sequence `:`<br>\n",
    "> &ensp;&ensp;&ensp;indentedStatement to repeat, can use **item**\n",
    "\n",
    "And here's a more practical example:"
   ]
  },
  {
   "cell_type": "code",
   "execution_count": 1,
   "metadata": {},
   "outputs": [
    {
     "name": "stdout",
     "output_type": "stream",
     "text": [
      "0\n",
      "1\n",
      "2\n",
      "3\n"
     ]
    }
   ],
   "source": [
    "for i in [0, 1, 2, 3]:\n",
    "    print(i)"
   ]
  },
  {
   "cell_type": "markdown",
   "metadata": {},
   "source": [
    "The utilized indent does not necessarily have to be a single tab stopp (`\\t`, i.e. four digits) in length, as shown in the above code chunk, but any number of digits larger than zero. For example, a 2-digit spacing would be fine as well:"
   ]
  },
  {
   "cell_type": "code",
   "execution_count": 2,
   "metadata": {},
   "outputs": [
    {
     "name": "stdout",
     "output_type": "stream",
     "text": [
      "0\n",
      "1\n",
      "2\n",
      "3\n"
     ]
    }
   ],
   "source": [
    "for i in [0, 1, 2, 3]:\n",
    "  print(i)"
   ]
  },
  {
   "cell_type": "markdown",
   "metadata": {},
   "source": [
    "However, since most IDEs default to a tab-delimited indent, and moreover, for us to keep things a little more concise, we are going to stick to a 4-digit indent from here on out.\n",
    "\n",
    "As you may have noticed, `for` loops expect the sequence of items to loop over to be provided as an object of"
   ]
  },
  {
   "cell_type": "code",
   "execution_count": 3,
   "metadata": {},
   "outputs": [
    {
     "data": {
      "text/plain": [
       "list"
      ]
     },
     "execution_count": 3,
     "metadata": {},
     "output_type": "execute_result"
    }
   ],
   "source": [
    "type([0, 1, 2, 3])"
   ]
  },
  {
   "cell_type": "markdown",
   "metadata": {},
   "source": [
    "One last thing before moving on to our first hands-on session about `for` loops: \n",
    "\n",
    "Instead of directly supplying a sequence of numbers (in our case, `[0, 1, 2, 3]`), we could have also created a `list` variable and passed it on to the loop construct. Such an approach might come in particularly handy when working with larger lists, as in doing so, we could simply use Python's `range()` function to loop over the length of our input sequence, and hence, extract each corresponding value at the *i*-th position."
   ]
  },
  {
   "cell_type": "code",
   "execution_count": 4,
   "metadata": {},
   "outputs": [
    {
     "name": "stdout",
     "output_type": "stream",
     "text": [
      "0\n",
      "2\n",
      "4\n",
      "6\n"
     ]
    }
   ],
   "source": [
    "x = [0, 1, 2, 3]\n",
    "\n",
    "for i in range(len(x)):\n",
    "    print(x[i] * 2)"
   ]
  },
  {
   "cell_type": "markdown",
   "metadata": {},
   "source": [
    "Of course, instead of printing the results of this iterative arithmetic operation to the console, we could have also written the outcome to a (previously initialized) variable, and hence, made it available for future use. In fact, it is now your task to implement such a procedure in W02-1 that calculates the mean value from a sequence of numbers. \n",
    "\n",
    "For further details, please consult the corresponding <a href=\"https://oer.uni-marburg.de/goto.php?target=pg_5103_720&client_id=mriliasmooc\">worksheet</a>. "
   ]
  },
  {
   "cell_type": "markdown",
   "metadata": {},
   "source": [
    "<hr>\n",
    "\n",
    "### `while` loops\n",
    "\n",
    "In contrast to `for` loops, that iterate over an input sequence until there are no items left in it, `while` loops repeat a given piece of code as long as a particular condition is `True`. Hence, the number of iterations depends on a conditional statement that is evaluated at the start of each repetition rather than a fixed-length input `list`.\n",
    "\n",
    "> `while` condition `:`<br>\n",
    "> &ensp;&ensp;&ensp;indentedStatement to repeat\n",
    "\n",
    "<br>\n",
    "<center>\n",
    "  <figure>\n",
    "    <img src=\"https://www.tutorialspoint.com/python/images/loop_architecture.jpg\" alt=\"while-loop\" height=\"300\">  \n",
    "    <figcaption>Source: https://www.tutorialspoint.com</figcaption>\n",
    "  </figure> \n",
    "</center>\n",
    "<br>\n",
    "\n",
    "Just like for `for` loops, the start and end of a `while` loop is clearly demarcated from the remaining code through indentation."
   ]
  },
  {
   "cell_type": "code",
   "execution_count": 5,
   "metadata": {},
   "outputs": [
    {
     "name": "stdout",
     "output_type": "stream",
     "text": [
      "0\n",
      "1\n",
      "2\n"
     ]
    }
   ],
   "source": [
    "n = 0\n",
    "\n",
    "while n < 3:\n",
    "    print(n)\n",
    "    n += 1"
   ]
  },
  {
   "cell_type": "markdown",
   "metadata": {},
   "source": [
    "<hr>\n",
    "\n",
    "### Brief digression\n",
    "\n",
    "To be honest, our list of assignment operators introduced in an <a href=\"https://oer.uni-marburg.de/goto.php?target=pg_2624_720&client_id=mriliasmooc\">earlier session</a> was not exactly comprehensive. In fact, the \"`+=`\" term used in the above `while` loop represents as much an assignment as \"`=`\", with the sole exception that the right side of the equation does not tell the whole truth about what is going on behind the curtain.\n",
    "\n",
    "Here, it is important to understand that the result of an operation using a certain variable as input (e.g. \"`n`\") can easily be assigned back to the same variable by combining the arithmetic operator (\"`+`\") with an equals sign (\"`=`\"). Therefore, \"`+=`\" must be regarded as a combined arithmetic&ndash;assignment operation. Of course, "
   ]
  },
  {
   "cell_type": "code",
   "execution_count": 6,
   "metadata": {},
   "outputs": [
    {
     "name": "stdout",
     "output_type": "stream",
     "text": [
      "0\n",
      "1\n",
      "2\n"
     ]
    }
   ],
   "source": [
    "n = 0\n",
    "\n",
    "while n < 3:\n",
    "    print(n)\n",
    "    n = n + 1"
   ]
  },
  {
   "cell_type": "markdown",
   "metadata": {},
   "source": [
    "would have generated exactly the same output, which in turn means that the coupled \"`+=`\" notation first and foremost is intended for reducing typing work. Still, it could be worth keeping in mind that \"`=`\" is not the only assignment operator out there, particularly when trying to perform arithmetic and assignment operations in one go. \n",
    "\n",
    "Long story short, here is the list of additionally available assignment operators:\n",
    "\n",
    "| Operator | Description       | Example   | Equivalent   |\n",
    "|:--------:|:----------------- |:--------- |:------------ |\n",
    "| `+=`      | Add AND          | `a += b`  | `a = a + b`  |\n",
    "| `-=`      | Subtract AND     | `a -= b`  | `a = a - b`  |\n",
    "| `*=`      | Multiply AND     | `a *= b`  | `a = a * b`  |\n",
    "| `**=`     | Exponent AND     | `a **= b` | `a = a ** b` |\n",
    "| `/=`      | Divide AND       | `a /= b`  | `a = a / b`  |\n",
    "| `//=`     | Floor divide AND | `a //= b` | `a = a // b` |\n",
    "| `%=`      | Modulus AND      | `a %= b`  | `a = a % b`  |"
   ]
  },
  {
   "cell_type": "markdown",
   "metadata": {},
   "source": [
    "<hr>\n",
    "\n",
    "In order to practice the knowledge we just gained about `while` loops (and possibly also the stuff about coupled arithmetic&ndash;assignment operations, which represent a very concise form of incrementing a counter variable), head over to the second part of <a href=\"https://oer.uni-marburg.de/goto.php?target=pg_5103_720&client_id=mriliasmooc\">W02-1</a> and try to solve the task we put up for you."
   ]
  }
 ],
 "metadata": {
  "kernelspec": {
   "display_name": "Python 3",
   "language": "python",
   "name": "python3"
  },
  "language_info": {
   "codemirror_mode": {
    "name": "ipython",
    "version": 3
   },
   "file_extension": ".py",
   "mimetype": "text/x-python",
   "name": "python",
   "nbconvert_exporter": "python",
   "pygments_lexer": "ipython3",
   "version": "3.6.3"
  }
 },
 "nbformat": 4,
 "nbformat_minor": 2
}
