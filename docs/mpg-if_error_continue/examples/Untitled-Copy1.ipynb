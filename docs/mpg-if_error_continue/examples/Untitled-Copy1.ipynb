{
 "cells": [
  {
   "cell_type": "markdown",
   "metadata": {},
   "source": [
    "## Sorting\n",
    "\n",
    "<hr>\n",
    "\n",
    "### partition \n",
    "The following\n",
    "\n",
    "sdafasdf"
   ]
  },
  {
   "cell_type": "code",
   "execution_count": 14,
   "metadata": {},
   "outputs": [],
   "source": [
    "def qsort(q):\n",
    "    lesser=[]\n",
    "    greater=[]\n",
    "    if len(q) <= 1:\n",
    "        return q\n",
    "    for i in q[1:]:\n",
    "        if i < q[0]:\n",
    "            lesser.append(i)\n",
    "        else:\n",
    "            greater.append(i)\n",
    "    return qsort(lesser) + q[0:1] + qsort(greater)\n"
   ]
  },
  {
   "cell_type": "code",
   "execution_count": 3,
   "metadata": {
    "collapsed": true
   },
   "outputs": [],
   "source": [
    "import random\n",
    "from datetime import datetime"
   ]
  },
  {
   "cell_type": "code",
   "execution_count": 5,
   "metadata": {},
   "outputs": [],
   "source": [
    "def partition_iterative(list, equal):\n",
    "    lesser = []\n",
    "    greater = []\n",
    "    while list != []:\n",
    "        head = list.pop(0)\n",
    "        if head < equal[0]:\n",
    "            lesser.append(head)\n",
    "        elif head > equal[0]:\n",
    "            greater.append(head)\n",
    "        else:\n",
    "            equal.append(head)\n",
    "    print(\"Equal: \", equal)\n",
    "    return (lesser, equal, greater)"
   ]
  },
  {
   "cell_type": "code",
   "execution_count": 6,
   "metadata": {
    "collapsed": true
   },
   "outputs": [],
   "source": [
    "def partition_recursive(list, lesser, equal, greater):\n",
    "    if list == []:\n",
    "        return (lesser, equal, greater)\n",
    "    else:\n",
    "        head = list[0]\n",
    "        if head < equal[0]:\n",
    "            return partition_recursive(list[1:], lesser + [head], equal, greater)\n",
    "        elif head > equal[0]:\n",
    "            return partition_recursive(list[1:], lesser, equal, greater + [head])\n",
    "        else:\n",
    "            return partition_recursive(list[1:], lesser, equal + [head], greater)\n"
   ]
  },
  {
   "cell_type": "code",
   "execution_count": 7,
   "metadata": {
    "collapsed": true
   },
   "outputs": [],
   "source": [
    "def quicksort(list,  info):\n",
    "    '''\n",
    "    Quicksort (implementation with partitioning function)\n",
    "    '''\n",
    "    print (info)\n",
    "    if list == []:\n",
    "        print (\"Return empty list\")\n",
    "        return []\n",
    "    else:\n",
    "        pivot = list[0]    # Pick actual element and sort values\n",
    "        #print (\"Actual pivot:   \", pivot)\n",
    "        lesser, equal, greater = partition_iterative(list[1:], [pivot])\n",
    "        #lesser, equal, greater = partition_recursive(list[1:], [], [pivot], [])\n",
    "        #print (\"Actual lesser:  \", lesser)\n",
    "        #print (\"Actual equal:   \",equal)\n",
    "        #print (\"Actual greater: \", greater)\n",
    "        print (\"Actual return:  \", lesser, equal, greater)\n",
    "        return quicksort(lesser, \"lesser\") + equal + quicksort(greater, \"greater\")\n"
   ]
  },
  {
   "cell_type": "code",
   "execution_count": 16,
   "metadata": {},
   "outputs": [
    {
     "name": "stdout",
     "output_type": "stream",
     "text": [
      "[73, 10, 62, 97, 33, 4, 0, 18, 84, 75]\n",
      "Computing list with  10  elements.\n",
      "Start time:     2017-11-29 18:37:08.910088\n",
      "[0, 4, 10, 18, 33, 62, 73, 75, 84, 97]\n",
      "End time:       2017-11-29 18:37:08.910088\n",
      "Computing time: 0:00:00\n"
     ]
    }
   ],
   "source": [
    "import random\n",
    "from datetime import datetime\n",
    "random.seed(6)\n",
    "elements = 10\n",
    "list = random.sample(range(100), elements)\n",
    "print(list)\n",
    "start = 0\n",
    "end = len(list)\n",
    "print(\"Computing list with \", len(list), \" elements.\")\n",
    "start_time = datetime.now()\n",
    "print(\"Start time:     \" + str(start_time))\n",
    "#sort = quicksort(list, \"start\")\n",
    "sort = qsort(list)\n",
    "print(sort)\n",
    "end_time = datetime.now()\n",
    "print(\"End time:       \" + str(end_time))\n",
    "print(\"Computing time: \" + str(end_time - start_time))\n",
    "\n"
   ]
  }
 ],
 "metadata": {
  "kernelspec": {
   "display_name": "Python 3",
   "language": "python",
   "name": "python3"
  },
  "language_info": {
   "codemirror_mode": {
    "name": "ipython",
    "version": 3
   },
   "file_extension": ".py",
   "mimetype": "text/x-python",
   "name": "python",
   "nbconvert_exporter": "python",
   "pygments_lexer": "ipython3",
   "version": "3.6.1"
  }
 },
 "nbformat": 4,
 "nbformat_minor": 2
}
