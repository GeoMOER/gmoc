{
 "cells": [
  {
   "cell_type": "markdown",
   "metadata": {},
   "source": [
    "### Operators\n",
    "\n",
    "To be honest, there are plenty of good tutorials about the usage of operators in Python on the web, e.g.\n",
    "\n",
    "* https://docs.python.org/2/library/stdtypes.html and\n",
    "* https://www.tutorialspoint.com/python/python_basic_operators.htm, \n",
    "\n",
    "which is why we will merely touch the surface here. Briefly, as defined on the latter web page, \n",
    "\n",
    "<i>\n",
    "> Operators are the constructs which can manipulate the value of operands.\n",
    "> Consider the expression `4 + 5 = 9`. Here, `4` and `5` are called operands and `+` is called operator.\n",
    "</i>\n",
    "\n",
    "Just like in any other programming language, the type of operation to be carried out determines the set of operators to be used. For our purposes, the most important operations are\n",
    "\n",
    "* _assignments_,\n",
    "* _arithmetic_ operations (i.e. math calculations), \n",
    "* _comparisons_, and\n",
    "* _logical_ (or _Boolean_) operations. \n",
    "\n",
    "The following section introduces the most important operators associated with each of these groups and also provides a set of examples in order to get you going."
   ]
  },
  {
   "cell_type": "code",
   "execution_count": 1,
   "metadata": {},
   "outputs": [
    {
     "data": {
      "text/html": [
       "<!--You can skip this HTML chunk, it is just used for left-aligning the below tables-->\n",
       "<style>\n",
       "  table {margin-left: 0 !important;}\n",
       "</style>"
      ],
      "text/plain": [
       "<IPython.core.display.HTML object>"
      ]
     },
     "metadata": {},
     "output_type": "display_data"
    }
   ],
   "source": [
    "%%html\n",
    "<!--You can skip this HTML chunk, it is just used for left-aligning the below tables-->\n",
    "<style>\n",
    "  table {margin-left: 0 !important;}\n",
    "</style>"
   ]
  },
  {
   "cell_type": "markdown",
   "metadata": {},
   "source": [
    "<hr>\n",
    "\n",
    "#### Assignment operators\n",
    "\n",
    "In contrast to other programming languages like C++ (`int i = 0;`) and Fortran (`INTEGER :: i = 1`), there is no need to explicitly declare variables in Python. The declaration, which basically means \"reserve some space in memory for a variable of a certain type\", happens automatically when assigning any kind of value to a variable.\n",
    "\n",
    "For that purpose, Python uses the equal sign (`=`), with the name of the target variable to the left and the value to be assigned to the right of the assignment operator.   "
   ]
  },
  {
   "cell_type": "code",
   "execution_count": 2,
   "metadata": {},
   "outputs": [
    {
     "data": {
      "text/plain": [
       "5"
      ]
     },
     "execution_count": 2,
     "metadata": {},
     "output_type": "execute_result"
    }
   ],
   "source": [
    "a = 5\n",
    "a"
   ]
  },
  {
   "cell_type": "markdown",
   "metadata": {},
   "source": [
    "Unlike R, where most users stick to the traditional arrow assignment (`<-`) that also works in the reverse direction (i.e. `->`), such a syntactical construct is not permitted in Python and will likely result in an error."
   ]
  },
  {
   "cell_type": "code",
   "execution_count": 3,
   "metadata": {},
   "outputs": [
    {
     "ename": "SyntaxError",
     "evalue": "can't assign to literal (<ipython-input-3-c1d3231ca441>, line 1)",
     "output_type": "error",
     "traceback": [
      "\u001b[1;36m  File \u001b[1;32m\"<ipython-input-3-c1d3231ca441>\"\u001b[1;36m, line \u001b[1;32m1\u001b[0m\n\u001b[1;33m    3 = b\u001b[0m\n\u001b[1;37m         ^\u001b[0m\n\u001b[1;31mSyntaxError\u001b[0m\u001b[1;31m:\u001b[0m can't assign to literal\n"
     ]
    }
   ],
   "source": [
    "3 = b"
   ]
  },
  {
   "cell_type": "markdown",
   "metadata": {},
   "source": [
    "Of course, multiple assignments are possible, too. This applies for assigning one value to multiple variables"
   ]
  },
  {
   "cell_type": "code",
   "execution_count": 4,
   "metadata": {},
   "outputs": [
    {
     "name": "stdout",
     "output_type": "stream",
     "text": [
      "5, 5\n"
     ]
    }
   ],
   "source": [
    "a = b = 5\n",
    "print(a, b, sep = \", \")"
   ]
  },
  {
   "cell_type": "markdown",
   "metadata": {},
   "source": [
    "as well as assigning multiple values to multiple variables"
   ]
  },
  {
   "cell_type": "code",
   "execution_count": 5,
   "metadata": {},
   "outputs": [
    {
     "name": "stdout",
     "output_type": "stream",
     "text": [
      "5, 2\n"
     ]
    }
   ],
   "source": [
    "c, d = 5, 2\n",
    "print(c, d, sep = \", \")"
   ]
  },
  {
   "cell_type": "markdown",
   "metadata": {},
   "source": [
    "<hr>\n",
    "\n",
    "#### Comparison operators\n",
    "\n",
    "Comparisons return `True` if a condition is met, and `False` otherwise. Be aware that in contrast to R, which requires either an abbreviated `T` (`F`) or a fully capitalized `TRUE` (`FALSE`), in Python only the first letter is capitalized.\n",
    "\n",
    "| Operator   | Description             | Example            |\n",
    "|:----------:|:----------------------- |:------------------:|\n",
    "| `<` (`<=`) | smaller than (or equal) | `a < b` (`a <= b`) |\n",
    "| `>` (`>=`) | larger than (or equal)  | `a > b` (`a >= b`) |\n",
    "| `==`       | is equal                | `a == b`           |\n",
    "| `!=`       | is not equal            | `a != b`           |"
   ]
  },
  {
   "cell_type": "code",
   "execution_count": 6,
   "metadata": {},
   "outputs": [
    {
     "data": {
      "text/plain": [
       "False"
      ]
     },
     "execution_count": 6,
     "metadata": {},
     "output_type": "execute_result"
    }
   ],
   "source": [
    "c < d"
   ]
  },
  {
   "cell_type": "code",
   "execution_count": 7,
   "metadata": {},
   "outputs": [
    {
     "data": {
      "text/plain": [
       "True"
      ]
     },
     "execution_count": 7,
     "metadata": {},
     "output_type": "execute_result"
    }
   ],
   "source": [
    "c > d"
   ]
  },
  {
   "cell_type": "code",
   "execution_count": 8,
   "metadata": {},
   "outputs": [
    {
     "data": {
      "text/plain": [
       "False"
      ]
     },
     "execution_count": 8,
     "metadata": {},
     "output_type": "execute_result"
    }
   ],
   "source": [
    "c == d"
   ]
  },
  {
   "cell_type": "code",
   "execution_count": 9,
   "metadata": {},
   "outputs": [
    {
     "data": {
      "text/plain": [
       "True"
      ]
     },
     "execution_count": 9,
     "metadata": {},
     "output_type": "execute_result"
    }
   ],
   "source": [
    "c != d"
   ]
  },
  {
   "cell_type": "markdown",
   "metadata": {},
   "source": [
    "<hr>\n",
    "\n",
    "#### Arithmetic operators\n",
    "\n",
    "Just like in other programming languages, arithmetic operations are straightforward to perform in Python. The list of readily available arithmetic operators thereby includes\n",
    "\n",
    "| Operator | Description       | Example  |\n",
    "|:--------:|:----------------- |:--------:|\n",
    "| `+`      | Summation         | `a + b`  |\n",
    "| `-`      | Subtraction       | `a - b`  |\n",
    "| `*`      | Multiplication    | `a * b`  |\n",
    "| `**`     | Power calculation | `a ** b` |\n",
    "| `/`      | Division          | `a / b`  |\n",
    "| `//`     | Floor division    | `a // b` |\n",
    "| `%`      | Modulus           | `a %% b` |"
   ]
  },
  {
   "cell_type": "code",
   "execution_count": 10,
   "metadata": {},
   "outputs": [
    {
     "data": {
      "text/plain": [
       "7"
      ]
     },
     "execution_count": 10,
     "metadata": {},
     "output_type": "execute_result"
    }
   ],
   "source": [
    "5 + 2"
   ]
  },
  {
   "cell_type": "code",
   "execution_count": 11,
   "metadata": {},
   "outputs": [
    {
     "data": {
      "text/plain": [
       "3"
      ]
     },
     "execution_count": 11,
     "metadata": {},
     "output_type": "execute_result"
    }
   ],
   "source": [
    "5 - 2"
   ]
  },
  {
   "cell_type": "code",
   "execution_count": 12,
   "metadata": {},
   "outputs": [
    {
     "data": {
      "text/plain": [
       "10"
      ]
     },
     "execution_count": 12,
     "metadata": {},
     "output_type": "execute_result"
    }
   ],
   "source": [
    "5 * 2"
   ]
  },
  {
   "cell_type": "code",
   "execution_count": 13,
   "metadata": {},
   "outputs": [
    {
     "data": {
      "text/plain": [
       "25"
      ]
     },
     "execution_count": 13,
     "metadata": {},
     "output_type": "execute_result"
    }
   ],
   "source": [
    "5 ** 2"
   ]
  },
  {
   "cell_type": "code",
   "execution_count": 14,
   "metadata": {},
   "outputs": [
    {
     "data": {
      "text/plain": [
       "2.5"
      ]
     },
     "execution_count": 14,
     "metadata": {},
     "output_type": "execute_result"
    }
   ],
   "source": [
    "5 / 2"
   ]
  },
  {
   "cell_type": "code",
   "execution_count": 15,
   "metadata": {},
   "outputs": [
    {
     "data": {
      "text/plain": [
       "2"
      ]
     },
     "execution_count": 15,
     "metadata": {},
     "output_type": "execute_result"
    }
   ],
   "source": [
    "5 // 2"
   ]
  },
  {
   "cell_type": "code",
   "execution_count": 16,
   "metadata": {},
   "outputs": [
    {
     "data": {
      "text/plain": [
       "1"
      ]
     },
     "execution_count": 16,
     "metadata": {},
     "output_type": "execute_result"
    }
   ],
   "source": [
    "5 % 2"
   ]
  },
  {
   "cell_type": "markdown",
   "metadata": {},
   "source": [
    "Of course, this also works for non-integer numeric values (i.e. `float`, of which more later on), for example"
   ]
  },
  {
   "cell_type": "code",
   "execution_count": 17,
   "metadata": {},
   "outputs": [
    {
     "data": {
      "text/plain": [
       "7.7"
      ]
     },
     "execution_count": 17,
     "metadata": {},
     "output_type": "execute_result"
    }
   ],
   "source": [
    "5.2 + 2.5"
   ]
  }
 ],
 "metadata": {
  "kernelspec": {
   "display_name": "Python 3",
   "language": "python",
   "name": "python3"
  },
  "language_info": {
   "codemirror_mode": {
    "name": "ipython",
    "version": 3
   },
   "file_extension": ".py",
   "mimetype": "text/x-python",
   "name": "python",
   "nbconvert_exporter": "python",
   "pygments_lexer": "ipython3",
   "version": "3.6.2"
  }
 },
 "nbformat": 4,
 "nbformat_minor": 2
}
